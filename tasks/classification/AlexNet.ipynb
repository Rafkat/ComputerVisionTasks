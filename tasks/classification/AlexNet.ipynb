{
 "cells": [
  {
   "cell_type": "code",
   "id": "initial_id",
   "metadata": {
    "collapsed": true,
    "ExecuteTime": {
     "end_time": "2025-02-17T18:20:07.309547Z",
     "start_time": "2025-02-17T18:20:07.305766Z"
    }
   },
   "source": [
    "from datasets import load_dataset\n",
    "from torchvision import transforms\n",
    "import torch\n",
    "from tqdm.auto import tqdm\n",
    "import requests"
   ],
   "outputs": [],
   "execution_count": 34
  },
  {
   "metadata": {
    "ExecuteTime": {
     "end_time": "2025-02-17T17:56:52.552977Z",
     "start_time": "2025-02-17T17:56:47.381103Z"
    }
   },
   "cell_type": "code",
   "source": [
    "imagenet = load_dataset(\n",
    "    'Maysee/tiny-imagenet', \n",
    "    split='valid'\n",
    ")"
   ],
   "id": "87c99ad2a5a2378b",
   "outputs": [],
   "execution_count": 2
  },
  {
   "metadata": {
    "ExecuteTime": {
     "end_time": "2025-02-17T17:56:55.046763Z",
     "start_time": "2025-02-17T17:56:55.040893Z"
    }
   },
   "cell_type": "code",
   "source": "imagenet",
   "id": "f6b623dba35753ab",
   "outputs": [
    {
     "data": {
      "text/plain": [
       "Dataset({\n",
       "    features: ['image', 'label'],\n",
       "    num_rows: 10000\n",
       "})"
      ]
     },
     "execution_count": 3,
     "metadata": {},
     "output_type": "execute_result"
    }
   ],
   "execution_count": 3
  },
  {
   "metadata": {
    "ExecuteTime": {
     "end_time": "2025-02-17T17:56:55.886628Z",
     "start_time": "2025-02-17T17:56:55.840364Z"
    }
   },
   "cell_type": "code",
   "source": "imagenet[0]",
   "id": "a7a70ba59c800b17",
   "outputs": [
    {
     "data": {
      "text/plain": [
       "{'image': <PIL.JpegImagePlugin.JpegImageFile image mode=RGB size=64x64>,\n",
       " 'label': 0}"
      ]
     },
     "execution_count": 4,
     "metadata": {},
     "output_type": "execute_result"
    }
   ],
   "execution_count": 4
  },
  {
   "metadata": {
    "ExecuteTime": {
     "end_time": "2025-02-17T17:57:31.882058Z",
     "start_time": "2025-02-17T17:57:31.878951Z"
    }
   },
   "cell_type": "code",
   "source": "imagenet[0]['image']",
   "id": "2cc3c61fab6bd8c0",
   "outputs": [
    {
     "data": {
      "text/plain": [
       "<PIL.JpegImagePlugin.JpegImageFile image mode=RGB size=64x64>"
      ],
      "image/png": "[encoded data removed]",
      "image/jpeg": "[encoded data removed]"
     },
     "execution_count": 5,
     "metadata": {},
     "output_type": "execute_result"
    }
   ],
   "execution_count": 5
  },
  {
   "metadata": {
    "ExecuteTime": {
     "end_time": "2025-02-17T17:58:34.663437Z",
     "start_time": "2025-02-17T17:58:34.659826Z"
    }
   },
   "cell_type": "code",
   "source": "imagenet[0]['image'].mode",
   "id": "911dac1b82b9e58",
   "outputs": [
    {
     "data": {
      "text/plain": [
       "'RGB'"
      ]
     },
     "execution_count": 6,
     "metadata": {},
     "output_type": "execute_result"
    }
   ],
   "execution_count": 6
  },
  {
   "metadata": {
    "ExecuteTime": {
     "end_time": "2025-02-17T17:58:43.806008Z",
     "start_time": "2025-02-17T17:58:43.803038Z"
    }
   },
   "cell_type": "code",
   "source": "imagenet[201]['image'].mode",
   "id": "ff44ca64457955a0",
   "outputs": [
    {
     "data": {
      "text/plain": [
       "'L'"
      ]
     },
     "execution_count": 7,
     "metadata": {},
     "output_type": "execute_result"
    }
   ],
   "execution_count": 7
  },
  {
   "metadata": {
    "ExecuteTime": {
     "end_time": "2025-02-17T17:58:53.975471Z",
     "start_time": "2025-02-17T17:58:53.972310Z"
    }
   },
   "cell_type": "code",
   "source": "imagenet[201]['image']",
   "id": "ed1f5afea2574e84",
   "outputs": [
    {
     "data": {
      "text/plain": [
       "<PIL.JpegImagePlugin.JpegImageFile image mode=L size=64x64>"
      ],
      "image/png": "[encoded data removed]",
      "image/jpeg": "[encoded data removed]"
     },
     "execution_count": 8,
     "metadata": {},
     "output_type": "execute_result"
    }
   ],
   "execution_count": 8
  },
  {
   "metadata": {
    "ExecuteTime": {
     "end_time": "2025-02-17T17:59:30.156360Z",
     "start_time": "2025-02-17T17:59:30.153655Z"
    }
   },
   "cell_type": "code",
   "source": "imagenet[201]['image'].convert('RGB').mode",
   "id": "f8a54bfba2fe7781",
   "outputs": [
    {
     "data": {
      "text/plain": [
       "'RGB'"
      ]
     },
     "execution_count": 11,
     "metadata": {},
     "output_type": "execute_result"
    }
   ],
   "execution_count": 11
  },
  {
   "metadata": {
    "ExecuteTime": {
     "end_time": "2025-02-17T18:03:18.508096Z",
     "start_time": "2025-02-17T18:03:18.502071Z"
    }
   },
   "cell_type": "code",
   "source": [
    "preprocess = transforms.Compose([\n",
    "    transforms.Resize(256),\n",
    "    transforms.CenterCrop(224),\n",
    "])\n",
    "\n",
    "new_img = preprocess(imagenet[0]['image'])\n",
    "new_img, new_img.mode"
   ],
   "id": "5a05e173c37337d0",
   "outputs": [
    {
     "data": {
      "text/plain": [
       "(<PIL.Image.Image image mode=RGB size=224x224>, 'RGB')"
      ]
     },
     "execution_count": 17,
     "metadata": {},
     "output_type": "execute_result"
    }
   ],
   "execution_count": 17
  },
  {
   "metadata": {
    "ExecuteTime": {
     "end_time": "2025-02-17T18:03:19.528348Z",
     "start_time": "2025-02-17T18:03:19.517041Z"
    }
   },
   "cell_type": "code",
   "source": [
    "preprocess = transforms.Compose([\n",
    "    transforms.ToTensor(),\n",
    "    transforms.Normalize(mean=[0.485, 0.456, 0.406],\n",
    "                         std=[0.229, 0.224, 0.225]),\n",
    "])\n",
    "\n",
    "new_img = preprocess(new_img)\n",
    "new_img"
   ],
   "id": "ba85da518b382ae",
   "outputs": [
    {
     "data": {
      "text/plain": [
       "tensor([[[-1.7412, -1.7583, -1.7583,  ..., -1.7412, -1.7412, -1.7412],\n",
       "         [-1.7583, -1.7754, -1.7754,  ..., -1.7754, -1.7754, -1.7754],\n",
       "         [-1.7583, -1.7754, -1.7754,  ..., -1.7925, -1.7925, -1.7925],\n",
       "         ...,\n",
       "         [-0.9534, -0.9705, -0.9020,  ..., -0.5767, -0.5767, -0.5767],\n",
       "         [-0.8678, -0.9192, -0.8849,  ..., -0.5253, -0.5082, -0.5082],\n",
       "         [-0.3027, -0.3198, -0.2856,  ..., -0.4739, -0.4568, -0.4568]],\n",
       "\n",
       "        [[-1.6856, -1.6856, -1.6856,  ..., -1.6506, -1.6506, -1.6506],\n",
       "         [-1.7031, -1.7206, -1.7206,  ..., -1.6856, -1.6856, -1.6856],\n",
       "         [-1.7031, -1.7206, -1.7206,  ..., -1.7031, -1.7031, -1.7031],\n",
       "         ...,\n",
       "         [-1.0728, -1.0728, -1.0028,  ..., -0.4776, -0.4776, -0.4776],\n",
       "         [-0.9678, -1.0028, -0.9678,  ..., -0.4251, -0.4076, -0.4076],\n",
       "         [-0.3725, -0.3901, -0.3550,  ..., -0.3725, -0.3550, -0.3550]],\n",
       "\n",
       "        [[-1.4384, -1.4559, -1.4559,  ..., -1.4210, -1.4210, -1.4210],\n",
       "         [-1.4559, -1.4733, -1.4733,  ..., -1.4559, -1.4559, -1.4559],\n",
       "         [-1.4559, -1.4733, -1.4733,  ..., -1.4733, -1.4733, -1.4733],\n",
       "         ...,\n",
       "         [-0.7587, -0.7761, -0.7064,  ..., -0.1487, -0.1487, -0.1487],\n",
       "         [-0.6541, -0.7064, -0.6715,  ..., -0.0790, -0.0790, -0.0790],\n",
       "         [-0.0790, -0.0964, -0.0615,  ..., -0.0267, -0.0267, -0.0092]]])"
      ]
     },
     "execution_count": 18,
     "metadata": {},
     "output_type": "execute_result"
    }
   ],
   "execution_count": 18
  },
  {
   "metadata": {
    "ExecuteTime": {
     "end_time": "2025-02-17T18:07:17.838460Z",
     "start_time": "2025-02-17T18:07:17.793461Z"
    }
   },
   "cell_type": "code",
   "source": [
    "preprocess = transforms.Compose([\n",
    "    transforms.Resize(256),\n",
    "    transforms.CenterCrop(224),\n",
    "    transforms.ToTensor(),\n",
    "    transforms.Normalize(mean=[0.485, 0.456, 0.406],\n",
    "                         std=[0.229, 0.224, 0.225]),\n",
    "])\n",
    "\n",
    "inputs = []\n",
    "\n",
    "for image in tqdm(imagenet[:50]['image']):\n",
    "    if image.mode != 'RGB':\n",
    "        image = image.convert('RGB')\n",
    "    \n",
    "    input_tensor = preprocess(image)\n",
    "    inputs.append(input_tensor)\n",
    "    \n",
    "inputs = torch.stack(inputs)"
   ],
   "id": "fa92271ba1b70598",
   "outputs": [
    {
     "data": {
      "text/plain": [
       "  0%|          | 0/50 [00:00<?, ?it/s]"
      ],
      "application/vnd.jupyter.widget-view+json": {
       "version_major": 2,
       "version_minor": 0,
       "model_id": "d969b6612c74407aaa29688c1f5986ed"
      }
     },
     "metadata": {},
     "output_type": "display_data"
    }
   ],
   "execution_count": 22
  },
  {
   "metadata": {
    "ExecuteTime": {
     "end_time": "2025-02-17T18:07:20.132034Z",
     "start_time": "2025-02-17T18:07:20.128869Z"
    }
   },
   "cell_type": "code",
   "source": "inputs.size()",
   "id": "327fb0e19a995378",
   "outputs": [
    {
     "data": {
      "text/plain": [
       "torch.Size([50, 3, 224, 224])"
      ]
     },
     "execution_count": 23,
     "metadata": {},
     "output_type": "execute_result"
    }
   ],
   "execution_count": 23
  },
  {
   "metadata": {
    "ExecuteTime": {
     "end_time": "2025-02-17T18:08:29.298920Z",
     "start_time": "2025-02-17T18:08:24.442855Z"
    }
   },
   "cell_type": "code",
   "source": [
    "alexnet = torch.hub.load('pytorch/vision:v0.10.0', 'alexnet', pretrained=True)\n",
    "alexnet.eval()"
   ],
   "id": "245f09834f9330da",
   "outputs": [
    {
     "name": "stderr",
     "output_type": "stream",
     "text": [
      "Using cache found in /home/rafkat/.cache/torch/hub/pytorch_vision_v0.10.0\n",
      "Downloading: \"https://download.pytorch.org/models/alexnet-owt-7be5be79.pth\" to /home/rafkat/.cache/torch/hub/checkpoints/alexnet-owt-7be5be79.pth\n",
      "100%|██████████| 233M/233M [00:04<00:00, 55.0MB/s] \n"
     ]
    },
    {
     "data": {
      "text/plain": [
       "AlexNet(\n",
       "  (features): Sequential(\n",
       "    (0): Conv2d(3, 64, kernel_size=(11, 11), stride=(4, 4), padding=(2, 2))\n",
       "    (1): ReLU(inplace=True)\n",
       "    (2): MaxPool2d(kernel_size=3, stride=2, padding=0, dilation=1, ceil_mode=False)\n",
       "    (3): Conv2d(64, 192, kernel_size=(5, 5), stride=(1, 1), padding=(2, 2))\n",
       "    (4): ReLU(inplace=True)\n",
       "    (5): MaxPool2d(kernel_size=3, stride=2, padding=0, dilation=1, ceil_mode=False)\n",
       "    (6): Conv2d(192, 384, kernel_size=(3, 3), stride=(1, 1), padding=(1, 1))\n",
       "    (7): ReLU(inplace=True)\n",
       "    (8): Conv2d(384, 256, kernel_size=(3, 3), stride=(1, 1), padding=(1, 1))\n",
       "    (9): ReLU(inplace=True)\n",
       "    (10): Conv2d(256, 256, kernel_size=(3, 3), stride=(1, 1), padding=(1, 1))\n",
       "    (11): ReLU(inplace=True)\n",
       "    (12): MaxPool2d(kernel_size=3, stride=2, padding=0, dilation=1, ceil_mode=False)\n",
       "  )\n",
       "  (avgpool): AdaptiveAvgPool2d(output_size=(6, 6))\n",
       "  (classifier): Sequential(\n",
       "    (0): Dropout(p=0.5, inplace=False)\n",
       "    (1): Linear(in_features=9216, out_features=4096, bias=True)\n",
       "    (2): ReLU(inplace=True)\n",
       "    (3): Dropout(p=0.5, inplace=False)\n",
       "    (4): Linear(in_features=4096, out_features=4096, bias=True)\n",
       "    (5): ReLU(inplace=True)\n",
       "    (6): Linear(in_features=4096, out_features=1000, bias=True)\n",
       "  )\n",
       ")"
      ]
     },
     "execution_count": 25,
     "metadata": {},
     "output_type": "execute_result"
    }
   ],
   "execution_count": 25
  },
  {
   "metadata": {
    "ExecuteTime": {
     "end_time": "2025-02-17T18:11:51.171834Z",
     "start_time": "2025-02-17T18:11:51.132527Z"
    }
   },
   "cell_type": "code",
   "source": "device = torch.device('cuda' if torch.cuda.is_available() else 'cpu')",
   "id": "fd459201ce923274",
   "outputs": [],
   "execution_count": 26
  },
  {
   "metadata": {
    "ExecuteTime": {
     "end_time": "2025-02-17T18:15:54.412023Z",
     "start_time": "2025-02-17T18:15:54.018302Z"
    }
   },
   "cell_type": "code",
   "source": [
    "inputs = inputs.to(device)\n",
    "alexnet.to(device)\n",
    "\n",
    "with torch.no_grad():\n",
    "    output = alexnet(inputs).detach()\n",
    "print(output.shape)\n",
    "output"
   ],
   "id": "cbe1c72d0d399d07",
   "outputs": [
    {
     "name": "stdout",
     "output_type": "stream",
     "text": [
      "torch.Size([50, 1000])\n"
     ]
    },
    {
     "data": {
      "text/plain": [
       "tensor([[ 8.1128, 14.6579, -0.1482,  ...,  5.8901,  1.3362, -5.4654],\n",
       "        [ 2.7953,  9.3225,  2.4795,  ..., -1.7868, -0.1563, -1.7153],\n",
       "        [ 7.3131, 16.8731,  1.3551,  ...,  3.2603,  0.8591, -3.7948],\n",
       "        ...,\n",
       "        [ 3.5161, 10.5389, -3.2762,  ...,  1.9821,  0.7347, -1.1566],\n",
       "        [ 4.2825, 13.0660,  1.2166,  ..., -1.0016,  2.9048, -5.2172],\n",
       "        [ 4.0025,  8.5582, -2.4834,  ...,  2.4887,  2.2094, -2.7812]],\n",
       "       device='cuda:0')"
      ]
     },
     "execution_count": 27,
     "metadata": {},
     "output_type": "execute_result"
    }
   ],
   "execution_count": 27
  },
  {
   "metadata": {
    "ExecuteTime": {
     "end_time": "2025-02-17T18:19:33.502297Z",
     "start_time": "2025-02-17T18:19:33.479594Z"
    }
   },
   "cell_type": "code",
   "source": "output[0]",
   "id": "cb0de1c4fa0783b2",
   "outputs": [
    {
     "data": {
      "text/plain": [
       "tensor([ 8.1128e+00,  1.4658e+01, -1.4818e-01,  1.2715e+00, -1.0063e+00,\n",
       "         5.4766e+00, -4.6952e-01,  1.4090e+00, -1.2555e+00, -3.0016e+00,\n",
       "         5.4489e+00,  6.1096e-01,  1.8069e+00, -1.8578e+00, -7.1579e-01,\n",
       "         2.5898e+00,  1.5187e+00, -2.6541e+00, -1.9996e+00, -2.1475e+00,\n",
       "        -2.5206e+00,  1.2210e+00, -5.0247e+00, -1.3825e+00, -4.7052e+00,\n",
       "         1.9898e+00,  7.7783e+00,  7.8809e+00,  4.0273e+00,  9.8344e+00,\n",
       "        -4.2260e-01,  1.6606e+00,  7.2175e+00,  6.8505e-01,  1.9568e+00,\n",
       "         1.9407e+00,  1.5533e+00, -2.0688e+00,  6.3837e+00, -9.0402e-01,\n",
       "         1.1223e+00,  2.4345e+00,  5.1284e+00,  6.8614e+00, -1.0393e-02,\n",
       "        -3.3689e+00, -3.6230e+00,  4.4006e+00, -2.0178e+00, -1.2557e-01,\n",
       "        -1.8693e+00,  6.2367e+00,  1.4437e+00,  9.2866e-01,  5.5408e-02,\n",
       "        -5.6283e+00,  8.1340e-01, -2.0667e+00, -3.5355e+00,  2.0348e+00,\n",
       "         2.0195e+00, -2.3053e+00,  2.6271e+00,  3.6889e+00,  1.8825e-01,\n",
       "         1.2250e+00,  1.4646e+00, -3.8001e+00,  3.3306e+00, -4.8006e+00,\n",
       "         5.9486e-01, -5.3662e-01, -2.0266e+00,  4.1661e+00, -2.2825e+00,\n",
       "         2.9326e-01, -2.2177e+00, -3.3237e+00,  2.7798e+00, -5.3832e-01,\n",
       "         5.1745e+00, -1.4513e+00,  2.7276e+00,  4.2059e+00, -7.6978e-01,\n",
       "         9.5177e-02,  4.8523e+00,  1.5783e-02,  9.2607e-01, -1.4495e+00,\n",
       "         4.5638e-01,  5.4549e+00, -1.5632e+00,  3.5545e+00,  6.2872e-01,\n",
       "         6.8975e+00,  2.9956e+00,  1.8840e+00,  4.6471e+00,  4.8521e+00,\n",
       "        -1.4164e-01,  9.3735e-01,  4.7036e-02,  5.1408e+00,  2.6561e-01,\n",
       "        -1.4547e+00, -2.3197e+00,  4.5653e+00,  2.5150e+00, -4.7469e-01,\n",
       "         2.2852e+00,  3.3371e+00,  1.2287e+00,  4.1465e+00,  1.9960e+00,\n",
       "         5.1550e+00,  5.9010e+00,  1.1835e+00,  7.0882e+00,  5.3049e+00,\n",
       "         6.7749e+00,  4.1753e+00,  6.0675e+00,  4.4077e+00,  5.0049e+00,\n",
       "         2.1635e+00,  8.0103e+00, -1.4081e+00,  4.2858e+00,  4.9314e-01,\n",
       "         3.4384e+00, -1.6556e+00, -3.7742e+00,  1.9597e+00, -1.2072e+00,\n",
       "         4.5532e+00,  9.6234e-02, -4.3741e+00, -2.7914e+00, -1.3875e+00,\n",
       "        -1.7408e+00, -1.9379e+00, -2.3099e-01, -8.4771e-01, -2.6176e+00,\n",
       "         2.7668e+00,  1.1537e+00,  7.4654e-02,  2.4630e+00,  3.5728e+00,\n",
       "        -1.9706e-01,  1.6780e-01, -1.0307e+00, -5.0052e+00, -2.9862e+00,\n",
       "        -4.1405e+00, -5.3792e-01, -1.3785e+00,  1.5428e+00,  1.3440e+00,\n",
       "         1.3646e+00, -4.5614e-01,  1.7398e+00,  2.3207e+00,  1.4746e+00,\n",
       "         3.7876e+00,  2.2844e+00,  2.5286e+00,  3.1354e+00,  2.6286e+00,\n",
       "         5.3846e-01, -4.8764e-02, -3.6008e-01,  9.5325e-01,  1.1459e+00,\n",
       "        -2.0121e-01,  5.9408e-01, -8.8091e-01, -1.3737e+00, -1.7908e-01,\n",
       "         8.7630e-01,  2.1507e+00, -2.0062e+00,  1.0230e+00,  1.7179e-01,\n",
       "        -4.5250e-01, -1.6328e+00, -1.4860e+00,  2.4605e-01, -1.0627e-01,\n",
       "        -1.7494e+00, -1.1674e-01, -2.6984e+00, -7.8346e-01,  1.1375e+00,\n",
       "         2.5030e-01, -1.9453e+00, -4.7953e-01, -1.9886e+00, -1.0175e+00,\n",
       "        -1.6327e+00, -4.0217e+00, -1.1248e-01, -2.5331e+00, -4.3563e+00,\n",
       "         1.0478e+00,  4.1811e+00,  2.6887e+00,  2.7752e+00,  1.3428e-01,\n",
       "         1.6007e+00,  2.5836e+00, -8.9135e-01,  3.2470e-01,  1.3048e+00,\n",
       "        -5.7308e-02, -9.9878e-01, -2.1518e+00, -5.8800e-02, -2.2643e+00,\n",
       "        -1.1380e+00,  8.8042e-01, -9.5795e-01, -7.6518e-01,  1.7115e+00,\n",
       "         1.6786e+00, -2.5680e+00,  5.1134e-01, -1.3973e+00, -3.1634e+00,\n",
       "        -1.9758e+00,  5.6183e-02, -1.0529e+00,  7.8508e-01,  1.3836e+00,\n",
       "         2.9631e+00,  2.9111e+00,  2.0125e+00,  1.4716e-01, -1.0755e+00,\n",
       "        -8.1146e-01,  1.7136e+00, -7.2886e-01,  1.9478e+00, -1.5842e+00,\n",
       "         4.7754e-02,  9.9878e-01,  1.0441e+00, -1.5873e+00, -1.0224e+00,\n",
       "        -2.0806e+00, -2.1132e+00,  8.3366e-01,  8.5502e-01, -1.2986e+00,\n",
       "        -1.3297e+00, -7.4142e-02, -1.4174e+00, -2.6942e+00, -1.1565e+00,\n",
       "        -1.8684e+00, -1.9843e+00,  5.3553e-01, -1.2304e+00,  1.1222e+00,\n",
       "        -3.7739e+00, -1.1028e+00,  7.5060e-02,  3.5136e+00,  1.7405e+00,\n",
       "         2.4110e-01,  5.2679e+00,  2.5969e+00,  5.0408e+00,  6.0222e+00,\n",
       "         6.1175e-02,  1.3531e+00,  6.4793e+00,  5.7620e+00,  2.9204e+00,\n",
       "         4.8583e+00, -2.3606e+00, -2.4000e+00, -2.0317e+00, -1.7871e+00,\n",
       "        -3.0713e+00,  2.6354e+00, -1.0535e+00,  2.9136e+00, -1.4597e+00,\n",
       "         9.0317e-02,  2.7125e+00,  7.5277e-03,  1.2856e+00, -4.1171e-01,\n",
       "         3.3235e+00,  1.4067e+00,  2.9620e+00,  5.4721e+00,  1.1356e-01,\n",
       "        -3.6902e-01,  1.0520e+00,  3.4897e+00,  2.1551e+00,  1.7149e+00,\n",
       "        -3.1055e+00,  1.6036e+00,  1.4869e+00, -2.2113e+00, -1.4717e+00,\n",
       "         3.4533e+00, -1.9772e+00, -2.4535e+00, -2.9501e+00,  1.8156e+00,\n",
       "        -3.3634e+00, -3.0353e+00, -2.1025e+00,  1.6315e+00, -1.5090e+00,\n",
       "        -4.6944e-01,  3.3423e-01,  3.4081e+00,  7.5111e-01, -2.2942e+00,\n",
       "         2.1715e+00,  2.9048e+00,  2.0738e+00, -1.5838e+00,  4.6916e+00,\n",
       "         2.7713e+00,  4.5309e+00, -2.3607e+00, -7.9230e-01, -1.5226e+00,\n",
       "         4.4568e+00, -2.0404e+00,  7.8718e-01, -1.4166e+00,  5.0095e+00,\n",
       "        -2.2875e+00,  3.3754e+00,  1.0678e+00, -1.8530e+00,  1.8396e+00,\n",
       "         2.9702e+00, -3.9234e-02,  2.6621e+00, -3.9881e+00,  5.4433e-01,\n",
       "         2.4564e+00,  4.2549e+00,  3.3755e+00,  1.6791e+00,  1.1716e+00,\n",
       "        -2.1216e+00,  2.9874e+00,  1.7332e+00,  1.5148e+00,  1.6200e+00,\n",
       "         1.9381e+00,  1.1298e+00,  2.0984e+00,  7.0642e-01,  4.2129e-01,\n",
       "         3.1904e+00, -1.7662e+00,  1.2495e+00,  1.6531e+00,  1.2699e+00,\n",
       "         3.2635e+00,  5.3335e+00,  3.0435e-01,  2.4112e+00,  4.5760e+00,\n",
       "         3.7675e+00,  7.2529e+00,  3.6431e+00,  2.0134e+00,  5.4007e+00,\n",
       "         5.7647e+00,  4.3559e+00,  4.2849e+00,  2.3579e+00,  5.8113e+00,\n",
       "         7.6500e-01,  9.6293e-01,  6.1990e+00,  2.0275e-01,  6.0004e+00,\n",
       "         7.3796e+00,  2.4570e+00,  9.6753e+00,  1.9885e+00,  2.3259e+00,\n",
       "         3.9343e+00, -4.5909e-01, -3.0979e+00, -2.7374e+00,  1.0174e+00,\n",
       "         2.6216e+00, -2.4492e+00,  6.4545e-01, -3.5620e+00,  1.2598e+00,\n",
       "         3.7452e-01, -1.4067e-01,  9.5699e-02,  1.1809e+00,  9.7023e-01,\n",
       "        -2.2211e+00, -3.3609e+00, -2.1137e-01,  3.8517e+00, -2.2885e+00,\n",
       "        -3.5783e+00,  1.3458e+00, -2.0943e+00, -3.1253e+00,  1.2551e+00,\n",
       "         1.1207e+00,  1.0769e+00, -6.0516e-01,  1.1249e-01, -8.3754e-01,\n",
       "        -4.1422e+00, -1.8851e+00,  3.5780e+00,  4.1418e+00, -4.7825e-01,\n",
       "         1.7800e-01, -2.5978e+00,  1.9553e+00,  4.9100e-01, -3.4741e+00,\n",
       "        -2.4361e+00, -1.6328e-01, -4.5990e+00, -1.4148e-01,  2.3921e+00,\n",
       "        -4.2804e+00, -4.0924e+00, -1.7051e+00, -4.6068e+00,  1.6834e+00,\n",
       "        -2.2311e+00, -4.6746e-01,  2.5527e+00, -2.5210e-01,  1.6252e-01,\n",
       "        -6.0307e-02,  2.4488e+00, -1.2541e+00, -4.4052e+00, -3.0709e+00,\n",
       "        -2.3343e+00,  1.1830e+00, -4.4511e+00, -5.2154e+00, -2.1554e+00,\n",
       "        -6.2294e+00,  2.7031e+00,  2.4558e-01, -1.7474e+00, -3.6629e-01,\n",
       "         3.0524e+00, -3.7086e+00, -2.7305e-01, -2.6722e+00,  4.3851e+00,\n",
       "         3.3089e+00, -4.9612e-01, -9.7640e-01,  5.3723e-01, -3.4664e+00,\n",
       "         8.9784e-02, -3.7669e-01,  3.7179e-02, -4.5369e+00,  3.6477e-01,\n",
       "        -1.7405e+00, -8.2639e-01, -1.3893e+00, -1.4562e+00, -3.1910e+00,\n",
       "        -2.0836e+00,  2.2773e+00, -2.9951e+00, -4.1886e-01, -2.6910e+00,\n",
       "         2.7894e+00,  6.2333e+00, -1.7992e+00, -2.5975e-01,  4.1478e+00,\n",
       "        -2.1042e+00, -3.0752e+00, -5.1776e+00, -3.5979e+00,  2.7358e+00,\n",
       "        -4.1338e+00,  1.7469e+00,  8.4153e-01, -5.8049e-02, -3.1976e+00,\n",
       "        -1.0948e+00, -3.2398e+00,  3.7075e-01, -8.5845e-01, -3.0424e+00,\n",
       "        -2.4839e+00,  8.0191e-01, -2.6245e+00, -1.3474e+00, -1.3447e-01,\n",
       "         1.1135e-01, -1.6269e+00, -1.8137e+00,  2.8752e+00, -2.2040e+00,\n",
       "        -5.0214e+00,  2.4353e+00,  1.4433e+00, -3.0445e+00,  1.8162e+00,\n",
       "        -4.0516e+00, -3.9780e+00,  3.9434e-01, -1.8157e+00, -4.6301e+00,\n",
       "        -1.1239e+00, -2.2981e+00, -1.6032e+00, -4.6200e+00, -1.7370e+00,\n",
       "         1.5828e+00, -2.3942e+00, -3.0196e+00,  2.2822e-01, -1.1146e+00,\n",
       "        -7.2098e-02,  1.6701e+00,  1.5868e+00, -1.6121e+00,  4.0399e+00,\n",
       "        -1.6765e+00,  4.3185e-01, -1.2340e+00, -2.4480e+00, -4.7633e+00,\n",
       "        -1.7529e+00, -2.6066e+00, -2.0193e+00, -3.8850e+00, -3.6218e+00,\n",
       "        -1.3729e+00,  5.3042e+00, -3.2664e+00,  1.5360e+00,  1.1419e+00,\n",
       "         1.1530e+00, -1.2862e-01, -1.1446e+00, -4.0798e+00, -3.1641e+00,\n",
       "        -2.2730e+00, -3.0878e-02,  5.8990e+00, -4.1729e+00, -9.0493e-01,\n",
       "         1.3515e+00,  5.3866e-01, -2.1240e+00, -3.2739e-01,  6.9210e-01,\n",
       "        -2.2920e-01,  2.6661e-01,  5.9224e+00, -5.5454e+00, -2.2592e+00,\n",
       "        -1.3902e+00, -1.9677e+00,  1.1212e-01,  1.2067e+00, -5.7073e-01,\n",
       "        -3.5974e-04, -1.5716e+00, -3.3453e-01, -1.7469e-01, -4.5943e-02,\n",
       "         3.6476e+00, -2.8448e+00, -4.1110e+00,  1.8182e+00,  8.2138e-01,\n",
       "         2.0593e-01,  1.5004e+00, -5.6280e-01,  1.1430e+00, -1.8730e+00,\n",
       "         1.8395e-01,  1.0222e+00,  3.4669e+00, -2.5908e+00,  4.6612e+00,\n",
       "        -4.5725e+00,  4.5757e-01,  3.8604e+00, -5.7450e+00, -8.9899e-01,\n",
       "         2.1468e+00, -4.9503e-01,  1.8200e+00,  1.3809e+00, -2.1809e+00,\n",
       "        -3.3887e-01, -1.6541e+00, -3.9999e+00, -1.8576e+00,  6.4701e-01,\n",
       "        -1.1967e-03,  2.2240e+00, -3.1936e+00,  4.4659e-01, -3.1467e+00,\n",
       "         6.1401e-01,  1.3168e+00, -1.5553e+00, -5.0993e+00, -2.2657e+00,\n",
       "        -1.6699e+00, -3.2771e+00,  2.5690e-01,  1.1622e+00,  2.3640e+00,\n",
       "         1.4013e+00, -3.3719e+00, -1.9032e+00, -1.3728e+00, -2.4499e-01,\n",
       "        -4.9835e+00,  2.8155e+00,  9.2935e-01,  2.8457e-01, -2.3880e-01,\n",
       "        -2.2069e+00, -2.5063e+00, -7.1940e-01, -5.1389e+00, -2.4466e+00,\n",
       "        -1.8361e+00,  2.6418e-01, -5.0429e+00,  4.1242e+00, -1.6519e+00,\n",
       "        -3.5618e+00,  7.6528e-03, -6.7290e-01, -4.3248e+00, -1.2608e+00,\n",
       "        -1.7079e-02, -1.8975e+00, -5.6513e-01, -1.9386e-01,  6.0725e-02,\n",
       "         1.7787e+00, -7.9485e-01,  8.7143e-01, -2.0658e+00, -3.9372e+00,\n",
       "         6.4303e-01, -2.6404e-01,  4.1268e+00, -1.9279e+00,  3.2791e+00,\n",
       "         2.2747e+00,  2.0018e+00, -1.3763e+00,  3.5222e+00, -7.7073e+00,\n",
       "         1.4379e+00, -4.9719e+00, -4.1726e+00, -5.2362e-01,  3.6168e+00,\n",
       "        -3.3484e+00,  5.6409e+00, -4.3901e+00, -2.1606e+00,  5.4119e-01,\n",
       "         1.3904e+00,  3.3529e+00,  4.9119e-02,  1.4077e+00,  1.5267e+00,\n",
       "        -2.1645e+00, -9.9819e-01, -3.6655e+00, -4.7008e+00,  2.8583e+00,\n",
       "        -4.5571e+00,  1.2907e-01,  1.8998e+00, -2.1352e+00, -4.2774e+00,\n",
       "        -1.2598e+00, -2.3958e+00, -1.1006e-01,  7.8545e-01, -4.2600e+00,\n",
       "        -2.6177e+00, -3.4863e+00,  3.5313e+00, -2.1191e+00,  3.5579e+00,\n",
       "         7.2643e-01, -4.4992e+00,  9.4583e-02, -2.9692e+00, -7.6904e-01,\n",
       "         7.1587e-01, -6.0153e+00, -4.7060e-01,  1.0314e+00, -2.9279e+00,\n",
       "        -7.9561e-01,  3.4370e+00,  2.1731e+00,  2.7360e+00,  2.3752e-01,\n",
       "         4.7572e-01,  3.9076e+00, -3.2061e+00,  8.2726e-01, -1.5484e+00,\n",
       "        -1.1090e+00,  5.1923e-01, -2.4638e+00,  5.8199e-01,  5.0593e+00,\n",
       "         2.5707e+00, -1.9588e+00,  6.6016e-02,  2.5586e+00,  5.4709e-01,\n",
       "        -2.2693e+00,  4.8304e-01,  1.6958e+00, -5.4429e+00,  1.3617e+00,\n",
       "        -1.9673e+00, -2.0183e-01, -3.1183e+00, -1.8707e+00, -5.0461e+00,\n",
       "        -8.7978e-01, -2.1481e+00, -6.7397e-02,  3.8831e+00, -7.6754e-01,\n",
       "        -2.0221e+00, -2.3447e+00, -1.1927e+00,  1.8815e+00,  2.8469e-01,\n",
       "         4.0442e-01,  6.8504e+00, -4.1636e+00, -1.2668e+00, -2.9941e+00,\n",
       "        -2.3394e+00, -5.4912e-01, -1.0989e-01, -5.8932e+00, -2.6311e+00,\n",
       "        -1.2533e+00,  5.2715e-01,  1.0479e+00, -2.6410e+00,  5.9890e-01,\n",
       "        -2.8617e+00, -1.3074e+00,  2.5727e+00, -2.5043e+00, -1.2695e+00,\n",
       "         1.5326e-02, -2.7385e+00,  1.7687e+00, -4.2641e+00, -2.7992e+00,\n",
       "         1.1942e-02, -1.2599e+00,  2.0472e-01, -2.5940e+00, -4.4237e+00,\n",
       "        -8.0894e-01,  3.4367e+00, -4.4834e-01, -3.0663e+00, -6.0579e+00,\n",
       "        -5.9428e-02, -9.4357e-01,  1.5087e+00,  1.5210e+00,  2.8916e+00,\n",
       "         1.8254e+00, -5.4359e+00,  1.2891e+00, -4.5836e-01, -1.8158e+00,\n",
       "        -9.2869e-01,  9.2669e-01, -4.3965e-02,  2.8294e+00, -1.2046e+00,\n",
       "        -4.9025e+00, -1.4414e+00, -2.3154e-02,  1.5123e+00, -4.0920e-01,\n",
       "        -5.7613e-01,  2.1096e+00,  4.0634e+00, -3.0538e+00, -7.1274e-01,\n",
       "        -2.2274e+00,  1.7623e+00,  3.0515e+00, -2.7084e+00, -3.3503e+00,\n",
       "         1.6935e+00, -8.3799e-02, -3.9291e+00, -9.1701e-01, -1.2256e+00,\n",
       "         2.1027e+00, -7.6223e-01, -1.3192e+00, -8.0390e-01, -5.9587e+00,\n",
       "        -4.4381e+00, -6.6234e-01, -1.2589e+00, -3.0290e+00, -8.3698e-01,\n",
       "        -2.5009e+00,  4.5120e+00, -2.4458e+00, -1.3444e+00, -3.5812e+00,\n",
       "        -4.3425e+00,  1.7601e+00, -2.7264e+00, -1.1518e+00,  2.1325e+00,\n",
       "        -1.7362e+00,  3.1784e+00, -3.6844e-01, -2.7903e+00,  4.1800e-01,\n",
       "         3.2049e+00, -5.3166e-02,  3.3502e+00, -1.9941e+00,  4.0345e-01,\n",
       "        -4.5787e-01,  1.1021e+00,  3.7593e+00, -4.7849e+00, -1.4461e+00,\n",
       "        -8.6778e-01, -6.9071e-01,  1.0564e-01, -5.5013e+00, -2.9680e+00,\n",
       "        -9.0662e-01, -3.4813e+00, -1.9389e+00, -3.6879e-01,  7.4852e-01,\n",
       "         1.4861e+00,  1.5171e+00, -3.4996e+00,  1.3507e-01, -1.5481e+00,\n",
       "        -9.8226e-01, -2.2715e+00, -1.9298e+00, -4.5866e+00,  8.2258e-01,\n",
       "        -2.0297e+00,  1.9812e+00, -4.1073e-01, -3.0511e+00, -2.0209e+00,\n",
       "        -3.0602e+00, -2.8006e+00, -1.0841e+00, -3.9040e+00, -8.6903e-01,\n",
       "        -2.8634e+00,  2.0777e+00,  2.4602e+00,  4.0748e-01, -1.8658e+00,\n",
       "        -4.7804e+00,  3.4401e+00, -3.0684e+00, -5.9120e+00,  3.2123e+00,\n",
       "         3.2123e-01, -1.2212e+00,  4.6562e+00, -1.9544e+00, -4.1442e-01,\n",
       "        -1.3466e+00, -3.3495e+00,  5.0613e+00, -5.9053e+00, -2.0527e+00,\n",
       "         8.1346e-02,  4.0895e+00, -3.5903e+00,  2.3184e+00, -1.5494e+00,\n",
       "         3.9247e+00,  6.0697e+00, -1.2765e+00, -5.6407e+00, -1.0488e+00,\n",
       "         1.5069e+00,  8.7857e-01,  1.4128e+00, -2.3378e+00,  1.5979e+00,\n",
       "        -2.0615e+00, -2.4570e+00, -4.0984e-01, -1.3962e-02, -1.5573e+00,\n",
       "         3.1319e+00,  1.6234e+00,  9.4921e-01, -2.2843e+00,  8.5860e-02,\n",
       "         2.6970e+00,  8.7802e-01,  3.8910e+00, -1.4224e+00,  1.9717e+00,\n",
       "        -1.2755e+00, -3.0607e-01,  2.5924e+00, -1.8579e+00, -2.6663e+00,\n",
       "        -1.4961e+00,  8.8535e-01,  1.7877e+00, -4.6429e+00,  5.6652e-01,\n",
       "        -2.1858e+00, -4.6634e+00,  2.9369e+00,  1.5284e+00,  2.1936e+00,\n",
       "        -2.3208e+00, -1.7557e+00, -5.7288e+00, -3.4573e+00,  1.9016e+00,\n",
       "        -3.0452e-01, -1.2333e+00, -3.0234e+00,  2.1657e+00, -2.8102e+00,\n",
       "        -1.9081e+00, -2.0810e+00, -1.2501e+00, -2.1530e+00, -2.7584e-01,\n",
       "         3.9618e+00, -4.3590e-01, -6.5856e+00, -3.4705e-01, -4.9865e+00,\n",
       "        -1.5254e+00, -8.2856e-01,  6.0810e-01,  1.1074e+00,  4.5769e-01,\n",
       "         3.2414e+00,  1.9507e+00,  3.6865e+00,  5.6597e+00,  7.4521e+00,\n",
       "         7.4258e+00,  6.7504e+00,  5.8901e+00,  1.3362e+00, -5.4654e+00],\n",
       "       device='cuda:0')"
      ]
     },
     "execution_count": 33,
     "metadata": {},
     "output_type": "execute_result"
    }
   ],
   "execution_count": 33
  },
  {
   "metadata": {
    "ExecuteTime": {
     "end_time": "2025-02-17T18:16:30.172861Z",
     "start_time": "2025-02-17T18:16:30.154738Z"
    }
   },
   "cell_type": "code",
   "source": [
    "preds = torch.argmax(output, dim=1).cpu().numpy()\n",
    "print(preds.shape)\n",
    "preds"
   ],
   "id": "c119eca80df11c92",
   "outputs": [
    {
     "name": "stdout",
     "output_type": "stream",
     "text": [
      "(50,)\n"
     ]
    },
    {
     "data": {
      "text/plain": [
       "array([  1,   1,   1,   1, 392,   1, 149,   1, 392,   1,   1,   1, 782,\n",
       "         1, 392,  73, 392,   1,  29, 973, 392,  73, 995,   1,   1,   1,\n",
       "         1, 206,   1,   1,   1,   1,   1,   1,   1,   1, 335,   1,   1,\n",
       "         1,   1,   1,   1,   1,   1,   1,   1,   1,   1,   1])"
      ]
     },
     "execution_count": 28,
     "metadata": {},
     "output_type": "execute_result"
    }
   ],
   "execution_count": 28
  },
  {
   "metadata": {
    "ExecuteTime": {
     "end_time": "2025-02-17T18:20:36.823879Z",
     "start_time": "2025-02-17T18:20:36.531816Z"
    }
   },
   "cell_type": "code",
   "source": "classes = requests.get('https://raw.githubusercontent.com/pytorch/hub/master/imagenet_classes.txt')",
   "id": "d149f290fe6f573b",
   "outputs": [],
   "execution_count": 35
  },
  {
   "metadata": {
    "ExecuteTime": {
     "end_time": "2025-02-17T18:21:05.035902Z",
     "start_time": "2025-02-17T18:21:05.033908Z"
    }
   },
   "cell_type": "code",
   "source": [
    "pred_labels = classes.text.split('\\n')\n",
    "print(pred_labels[1])"
   ],
   "id": "d18b494d26627602",
   "outputs": [
    {
     "name": "stdout",
     "output_type": "stream",
     "text": [
      "goldfish\n"
     ]
    }
   ],
   "execution_count": 36
  },
  {
   "metadata": {
    "ExecuteTime": {
     "end_time": "2025-02-17T18:21:26.822055Z",
     "start_time": "2025-02-17T18:21:26.819386Z"
    }
   },
   "cell_type": "code",
   "source": "sum(preds == 1) / len(preds)",
   "id": "31a795473c2f5f",
   "outputs": [
    {
     "data": {
      "text/plain": [
       "np.float64(0.72)"
      ]
     },
     "execution_count": 37,
     "metadata": {},
     "output_type": "execute_result"
    }
   ],
   "execution_count": 37
  },
  {
   "metadata": {},
   "cell_type": "code",
   "outputs": [],
   "execution_count": null,
   "source": "",
   "id": "b13590bc2efc198a"
  }
 ],
 "metadata": {
  "kernelspec": {
   "display_name": "Python 3",
   "language": "python",
   "name": "python3"
  },
  "language_info": {
   "codemirror_mode": {
    "name": "ipython",
    "version": 2
   },
   "file_extension": ".py",
   "mimetype": "text/x-python",
   "name": "python",
   "nbconvert_exporter": "python",
   "pygments_lexer": "ipython2",
   "version": "2.7.6"
  }
 },
 "nbformat": 4,
 "nbformat_minor": 5
}
